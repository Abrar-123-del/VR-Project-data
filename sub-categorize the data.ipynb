{
 "cells": [
  {
   "cell_type": "code",
   "execution_count": 1,
   "id": "b39f308b",
   "metadata": {},
   "outputs": [],
   "source": [
    "import pandas as pd"
   ]
  },
  {
   "cell_type": "code",
   "execution_count": 2,
   "id": "8d8e3bfe",
   "metadata": {},
   "outputs": [],
   "source": [
    "# Load the CSV file\n",
    "df = pd.read_csv('Original Dataset.csv')"
   ]
  },
  {
   "cell_type": "code",
   "execution_count": 3,
   "id": "3184b8e7",
   "metadata": {},
   "outputs": [],
   "source": [
    "# Define the subcategories\n",
    "education_areas = ['Space', 'Nature', 'History', 'Art', 'Architecture', 'Engineering', 'Psychology', 'Math', 'Computer Science', 'Safety', 'Chemistry', 'Sociology', 'Ecology', 'Literature', 'Physics', 'Language']\n",
    "medicine_areas = ['Medicine']\n",
    "entertainment_areas = ['Game', 'Travel', 'Music', 'Sport']\n",
    "industry_areas = ['Tool', 'Food', 'Multiple']"
   ]
  },
  {
   "cell_type": "code",
   "execution_count": 4,
   "id": "891747ff",
   "metadata": {},
   "outputs": [],
   "source": [
    "# Categorize 'Area' values\n",
    "df.loc[df['Area'].isin(education_areas), 'Area'] = 'Education'\n",
    "df.loc[df['Area'].isin(medicine_areas), 'Area'] = 'Medicine'\n",
    "df.loc[df['Area'].isin(entertainment_areas), 'Area'] = 'Entertainment'\n",
    "df.loc[df['Area'].isin(industry_areas), 'Area'] = 'Industry'"
   ]
  },
  {
   "cell_type": "code",
   "execution_count": 5,
   "id": "d4443261",
   "metadata": {},
   "outputs": [],
   "source": [
    "# Group by 'Area' and calculate the average values of 'N' and '%'\n",
    "grouped_df = df.groupby(['Area', 'year'], as_index=False).agg({'N': 'mean', '%': 'sum'})"
   ]
  },
  {
   "cell_type": "code",
   "execution_count": 6,
   "id": "292e9221",
   "metadata": {},
   "outputs": [],
   "source": [
    "# Calculate the '%' column values to ensure they sum up to 100\n",
    "percent_sum = grouped_df.groupby('year')['%'].transform('sum')\n",
    "grouped_df['%'] = 100 / percent_sum * grouped_df['%']"
   ]
  },
  {
   "cell_type": "code",
   "execution_count": 7,
   "id": "6d4fcf58",
   "metadata": {},
   "outputs": [],
   "source": [
    "# Round the 'N' values to integers\n",
    "grouped_df['N'] = grouped_df['N'].round().astype(int)"
   ]
  },
  {
   "cell_type": "code",
   "execution_count": 9,
   "id": "258f11c3",
   "metadata": {},
   "outputs": [],
   "source": [
    "# Save the modified DataFrame as a new CSV file\n",
    "grouped_df.to_csv('Sub Categorized Dataset.csv', index=False)"
   ]
  },
  {
   "cell_type": "code",
   "execution_count": null,
   "id": "91c4ae6b",
   "metadata": {},
   "outputs": [],
   "source": []
  }
 ],
 "metadata": {
  "kernelspec": {
   "display_name": "Python 3 (ipykernel)",
   "language": "python",
   "name": "python3"
  },
  "language_info": {
   "codemirror_mode": {
    "name": "ipython",
    "version": 3
   },
   "file_extension": ".py",
   "mimetype": "text/x-python",
   "name": "python",
   "nbconvert_exporter": "python",
   "pygments_lexer": "ipython3",
   "version": "3.11.3"
  }
 },
 "nbformat": 4,
 "nbformat_minor": 5
}
